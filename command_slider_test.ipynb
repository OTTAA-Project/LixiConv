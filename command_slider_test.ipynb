{
 "cells": [
  {
   "cell_type": "code",
   "execution_count": 1,
   "metadata": {},
   "outputs": [
    {
     "name": "stderr",
     "output_type": "stream",
     "text": [
      "2022-09-19 16:27:29.441020: I tensorflow/core/platform/cpu_feature_guard.cc:193] This TensorFlow binary is optimized with oneAPI Deep Neural Network Library (oneDNN) to use the following CPU instructions in performance-critical operations:  AVX2 FMA\n",
      "To enable them in other operations, rebuild TensorFlow with the appropriate compiler flags.\n"
     ]
    }
   ],
   "source": [
    "import ipywidgets as widgets\n",
    "from IPython.display import display\n",
    "from ipywidgets import interact, interactive, fixed, interact_manual\n",
    "\n",
    "import numpy as np\n",
    "import matplotlib.pyplot as plt\n",
    "from statistics import mean\n",
    "import pandas as pd\n",
    "import os\n",
    "\n",
    "import tensorflow as tf\n",
    "\n",
    "from feature_processing import signal as basics\n"
   ]
  },
  {
   "cell_type": "code",
   "execution_count": 2,
   "metadata": {},
   "outputs": [],
   "source": [
    "# Signal Params\n",
    "\n",
    "sf = 200\n",
    "\n",
    "main_freq = [23, None]\n",
    "labels = [1, 2]\n",
    "\n",
    "channels_tokeep = \"all\"\n",
    "#channels_tokeep = [2,3]\n",
    "\n",
    "# Processing Params\n",
    "\n",
    "load_many = True\n",
    "\n",
    "bp_lo = 1\n",
    "bp_hi = 70\n",
    "notch = 50\n",
    "\n",
    "load_validation = True\n",
    "model_iter = 3\n",
    "\n",
    "command_simulation = True"
   ]
  },
  {
   "cell_type": "markdown",
   "metadata": {},
   "source": [
    "### Validation Set"
   ]
  },
  {
   "cell_type": "code",
   "execution_count": 3,
   "metadata": {},
   "outputs": [],
   "source": [
    "signal_pd_val, tag_column_val, signal_name_val, signal_dir_val, signal_path_val = basics.build_dataframe(initial_dir=\"/Users/gastoncavallo/Desktop/Facultad/PI/Scripts/Command slider test\")\n",
    "\n",
    "signal_np_val, signal_pd_tonp_val = basics.signal_cleaning(signal_pd_val, labels = labels, just_np = True)\n",
    "\n",
    "signal_np_val = signal_pd_val[[\"Ch1\", \"Ch2\", \"Ch3\", \"Ch4\"]].values.T\n",
    "signal_val = basics.preprocess(signal_np_val, bp_flo = bp_lo, bp_fhi = bp_hi, f_notch = notch)\n",
    "    \n",
    "    \n",
    "timestamps_dict_val, timestamps_list_val = basics.timestamps_loc(signal_pd_tonp_val, tag_column_val, labels = labels)\n",
    "    "
   ]
  },
  {
   "cell_type": "markdown",
   "metadata": {},
   "source": [
    "### Model"
   ]
  },
  {
   "cell_type": "code",
   "execution_count": 4,
   "metadata": {},
   "outputs": [
    {
     "name": "stdout",
     "output_type": "stream",
     "text": [
      "WARNING:tensorflow:SavedModel saved prior to TF 2.5 detected when loading Keras model. Please ensure that you are saving the model with model.save() or tf.keras.models.save_model(), *NOT* tf.saved_model.save(). To confirm, there should be a file named \"keras_metadata.pb\" in the SavedModel directory.\n"
     ]
    },
    {
     "name": "stderr",
     "output_type": "stream",
     "text": [
      "2022-09-19 16:27:56.084386: I tensorflow/core/platform/cpu_feature_guard.cc:193] This TensorFlow binary is optimized with oneAPI Deep Neural Network Library (oneDNN) to use the following CPU instructions in performance-critical operations:  AVX2 FMA\n",
      "To enable them in other operations, rebuild TensorFlow with the appropriate compiler flags.\n"
     ]
    }
   ],
   "source": [
    "#Manualmente asigno el nombre de cada modelo:\n",
    "    \n",
    "element = \"model_own1\"\n",
    "model = tf.keras.models.load_model(\"/Users/gastoncavallo/Desktop/Resultados 40 epocas/Full train 40 epoch/trained_models/\" + element)\n"
   ]
  },
  {
   "cell_type": "markdown",
   "metadata": {},
   "source": []
  },
  {
   "cell_type": "code",
   "execution_count": 5,
   "metadata": {},
   "outputs": [],
   "source": [
    "lista_reshape = [signal_val[np.newaxis,i-512:i ,:] for i in range(512, signal_val.shape[0], 8)]\n",
    "signal_reshape = np.concatenate(lista_reshape, axis = 0)\n",
    "\n",
    "#En caso de tl poner tl = True\n",
    "tl = False\n",
    "def modificar_matriz(original, dimnec1, dimnec2, dimnec3): #para acomodar la señal al input necesario por las redes de tl\n",
    "    \n",
    "    new = original\n",
    "\n",
    "    while dimnec1 > (new.shape[1]):\n",
    "        new = np.append(new, new, axis = 1)\n",
    "    while dimnec2 > (new.shape[2]):\n",
    "        new = np.append(new, new, axis = 2)\n",
    "    \n",
    "    if dimnec3 != None:\n",
    "        new = np.expand_dims(new, axis = 3)   \n",
    "        new_copy = new.copy()\n",
    "        \n",
    "        while dimnec3 > (new.shape[3]):\n",
    "              new = np.append(new, new_copy, axis = 3)\n",
    "    \n",
    "    return new\n",
    "if tl:\n",
    "    signal_reshape = modificar_matriz(signal_reshape, 75, 75, 3)\n",
    "    \n"
   ]
  },
  {
   "cell_type": "code",
   "execution_count": 6,
   "metadata": {},
   "outputs": [
    {
     "data": {
      "image/png": "[encoded data removed]",
      "text/plain": [
       "<Figure size 432x288 with 1 Axes>"
      ]
     },
     "metadata": {
      "needs_background": "light"
     },
     "output_type": "display_data"
    }
   ],
   "source": [
    "#Ploteo señal de validación\n",
    "gt = signal_pd_val[\"mlp_labels\"].replace([99,2,1],[1,0,0]).values[512::8] #probar [:-512:8] y [256:-256:8]\n",
    "\n",
    "plt.figure()\n",
    "plt.title(\"Etiquetas de señal de validación\")\n",
    "plt.plot(gt)\n",
    "\n",
    "plt.savefig(\"/Users/gastoncavallo/Desktop/Resultados 40 epocas/Etiquetas_de_validación.jpg\")"
   ]
  },
  {
   "cell_type": "code",
   "execution_count": 6,
   "metadata": {},
   "outputs": [
    {
     "name": "stdout",
     "output_type": "stream",
     "text": [
      "78/78 [==============================] - 1s 5ms/step\n"
     ]
    },
    {
     "data": {
      "image/png": "[encoded data removed]",
      "text/plain": [
       "<Figure size 432x288 with 1 Axes>"
      ]
     },
     "metadata": {
      "needs_background": "light"
     },
     "output_type": "display_data"
    }
   ],
   "source": [
    "#a signal_reshape la paso por el modelo y con eso obtengo mi vector de predicciones\n",
    "pred_onehot = model.predict(signal_reshape) #predicciones crudas en onehot, falta aplicar el buffer\n",
    "preds = pred_onehot.argmax(axis = 1)\n",
    "\n",
    "gt = signal_pd_val[\"mlp_labels\"].replace([99,2,1],[1,0,0]).values[512::8] #probar [:-512:8] y [256:-256:8]\n",
    "\n",
    "#al final tirar: signal_reshape.shape , gt.shape, preds.shape\n",
    "#deberìan ser: N,512,4 - N - N\n",
    "\n",
    "#si esto esta bien lo de abajo se borra\n",
    "#medir el tiempo que tarda en hacer esto\n",
    "\n",
    "plt.figure()\n",
    "plt.title(\"Predicciones directamente calculadas\")\n",
    "plt.plot(preds)\n",
    "plt.plot(gt)\n",
    "plt.savefig(\"/Users/gastoncavallo/Desktop/Resultados 40 epocas/Comparación.jpg\")"
   ]
  },
  {
   "cell_type": "markdown",
   "metadata": {},
   "source": [
    "## METRICAS"
   ]
  },
  {
   "cell_type": "code",
   "execution_count": 7,
   "metadata": {},
   "outputs": [],
   "source": [
    "#Marco eventos en los array\n",
    "def events(gt, preds):\n",
    "    gt_events=[[],[]] #la idea es en la posición 0 marcar la ubicación de las bajadas (persona mirando) y en la 1 las subidas (persona deja de mirar)\n",
    "    preds_events=[[],[]]\n",
    "\n",
    "    for i in range(1, len(gt)):\n",
    "        if gt[i] != gt[i-1]:\n",
    "            gt_events[gt[i]].append(i) #uso el valor de gt[i] que puede ser 0 o 1 para indicar la posición en gt_events\n",
    "    for i in range(1, len(preds)):\n",
    "        if preds[i] != preds[i-1]:\n",
    "            preds_events[preds[i]].append(i)  \n",
    "    return (preds_events, gt_events)\n",
    "\n",
    "\n",
    "\n",
    "#Cálculo delay de bajada y subida (Cuánto demora entre que la persona empieza a mirar y el equipo hace la primer predicción)\n",
    "\n",
    "def delay(gt_events, preds_events):\n",
    "    \n",
    "    delay_b = [] \n",
    "    delay_s = []\n",
    "    for b in gt_events[0]:\n",
    "        first = True\n",
    "        for bp in preds_events[0]:\n",
    "            if bp > b and first:\n",
    "                delay_b.append(bp - b) \n",
    "                first = False\n",
    "                \n",
    "    for s in gt_events[1]:\n",
    "        first = True\n",
    "        for sp in preds_events[1]:\n",
    "            if sp > s and first:\n",
    "                delay_s.append(sp-s)\n",
    "                first = False\n",
    "                \n",
    "    #Normalizo el tiempo\n",
    "    #Cálculo promedio de tiempo en bajada de gt: Persona mirando.\n",
    "    tb = []\n",
    "    for i in range(len(gt_events[0])): #Recorro las bajadas\n",
    "        tb.append(gt_events[1][i] - gt_events[0][i]) #Por cada bajada calculo el tiempo que se queda hasta que sube\n",
    "    ref = mean(tb)\n",
    "    \n",
    "    return((mean(delay_b)/ref), (mean(delay_s)/ref))\n",
    "\n",
    "#Calculo de Inestabilidad - Falsos pos - Falsos neg\n",
    "def estabilidad(gt_events, preds_events):\n",
    "    inest = []\n",
    "    falsos_pos = []\n",
    "    falsos_neg = []\n",
    "\n",
    "    def count_events(a, b): #cuento las eventos entre el rango a,b [a y b pueden ser subidas o bajadas]\n",
    "        count_sub = 0\n",
    "        count_baj = 0\n",
    "        r1 = 0\n",
    "        r2 = 0\n",
    "        if a<b: #estoy en subida y cuento subidas, o estoy en bajadas y cuento bajadas.\n",
    "            for r1 in preds_events[1]:\n",
    "                if r1>a and r1<b:\n",
    "                    count_sub +=1 \n",
    "            for r2 in preds_events[0]:\n",
    "                if r2>a and r2<b:\n",
    "                    count_baj +=1\n",
    "\n",
    "        else: #estoy en bajada y cuento subida o estoy en subida y cuento bajada\n",
    "            for r1 in preds_events[1]:\n",
    "                if r1>b and r1<a: #en bajada cuento subida\n",
    "                    count_sub +=1\n",
    "            for r2 in preds_events[0]:\n",
    "                if r2>b and r2<a: #en subida cuento bajada\n",
    "                    count_baj +=1\n",
    "        return (count_sub, count_baj)\n",
    "\n",
    "    i=0\n",
    "    j=0\n",
    "\n",
    "    while  j<len(gt_events[1]) and i<len(gt_events[0]):\n",
    "        if j==i: #Significa que estamos en subida\n",
    "            inest.append(count_events(gt_events[1][j],gt_events[0][i])[0]) #Cuento subidas = Inest (ideal = 1)\n",
    "            falsos_pos.append(count_events(gt_events[0][i],gt_events[1][j])[1]) #Cuento bajadas = Falsos pos (ideal = 0)\n",
    "            j+=1\n",
    "        else:   #bajada\n",
    "            inest.append(count_events(gt_events[0][i],gt_events[1][j])[1]) #cuento bajadas = Inest (ideal =1)\n",
    "            falsos_neg.append(count_events(gt_events[1][j],gt_events[0][i])[0]) #cuento subidas = Falsos neg(ideal =0)\n",
    "            i+=1\n",
    "    \n",
    "    return(mean(inest), mean(falsos_pos), mean(falsos_neg))\n",
    "\n",
    "def eval_metrics(gt, preds, return_pd = False):\n",
    "    preds_events, gt_events = events(gt, preds)\n",
    "    delay_b, delay_s = delay(gt_events, preds_events)\n",
    "    inest, falsos_pos, falsos_neg = estabilidad(gt_events, preds_events)\n",
    "    \n",
    "    if return_pd:\n",
    "        return pd.DataFrame([[delay_s, delay_b, inest, falsos_pos, falsos_neg]], columns = [\"Delay subida\",\n",
    "                                                                                                    \"Delay bajada\",\n",
    "                                                                                                   \"Inestabilidad\",\n",
    "                                                                                                   \"Falsos positivos\",\n",
    "                                                                                                   \"Falsos negativos\"])\n",
    "        \n",
    "    else:\n",
    "        return(delay_s, delay_b, inest, falsos_pos, falsos_neg)\n",
    "    \n",
    "    \n",
    "    \n",
    "    "
   ]
  },
  {
   "cell_type": "markdown",
   "metadata": {},
   "source": [
    "# VALIDATION"
   ]
  },
  {
   "cell_type": "code",
   "execution_count": 12,
   "metadata": {
    "scrolled": true
   },
   "outputs": [
    {
     "data": {
      "application/vnd.jupyter.widget-view+json": {
       "model_id": "f17d2079d7eb45c9b39ee91e89ad8bbf",
       "version_major": 2,
       "version_minor": 0
      },
      "text/plain": [
       "interactive(children=(IntSlider(value=85, continuous_update=False, description='%:', min=10), IntSlider(value=…"
      ]
     },
     "metadata": {},
     "output_type": "display_data"
    },
    {
     "data": {
      "text/plain": [
       "<function __main__.plot_command(percent, buff_size, return_pd=False)>"
      ]
     },
     "execution_count": 12,
     "metadata": {},
     "output_type": "execute_result"
    }
   ],
   "source": [
    "def plot_command(percent, buff_size, return_pd = False):\n",
    "    fig, axs = plt.subplots(1, 3) # not efficient bc generates new figures but for update its a HUGE workaround\n",
    "    fig.set_figheight = 5\n",
    "    fig.set_figwidth = 10\n",
    "    time_predictions = []\n",
    "    for j in range(len(preds)):\n",
    "        if j < buff_size:\n",
    "            time_predictions.append(1)\n",
    "        else:\n",
    "            count = 0\n",
    "            for b in range(buff_size, -1, -1):\n",
    "                if preds[j-b] == 1:\n",
    "                    count+=1\n",
    "                    \n",
    "            if (count/buff_size)*100 > percent:\n",
    "                time_predictions.append(1)\n",
    "            else:\n",
    "                time_predictions.append(0)\n",
    "                \n",
    "    metrics = eval_metrics(gt, time_predictions, return_pd)\n",
    "    if return_pd:\n",
    "        return metrics \n",
    "    \n",
    "    axs[0].plot(time_predictions)\n",
    "    axs[0].plot(gt)\n",
    "\n",
    "    axs[1].bar(list(range(2)), metrics[:2], tick_label=['DS', 'DB'])\n",
    "    axs[2].bar(list(range(3)), metrics[2:], tick_label=['Inest', 'FP', 'FN'])\n",
    "\n",
    "    plt.show()\n",
    "\n",
    "interact(plot_command, percent = widgets.IntSlider(value=85,\n",
    "                                                    min=10,\n",
    "                                                    max=100,\n",
    "                                                    step=1,\n",
    "                                                    description='%:',\n",
    "                                                    disabled=False,\n",
    "                                                    continuous_update= False,\n",
    "                                                    orientation='horizontal',\n",
    "                                                    readout=True,\n",
    "                                                    readout_format='d'\n",
    "                                                ), buff_size = widgets.IntSlider(value=20,\n",
    "                                                                                min=5,\n",
    "                                                                                max=100,\n",
    "                                                                                step=1,\n",
    "                                                                                description='Samples:',\n",
    "                                                                                disabled=False,\n",
    "                                                                                continuous_update= False,\n",
    "                                                                                orientation='horizontal',\n",
    "                                                                                readout=True,\n",
    "                                                                                readout_format='d'\n",
    "                                                                                ), return_pd = widgets.IntSlider(disabled=True)\n",
    "        )"
   ]
  },
  {
   "cell_type": "code",
   "execution_count": 13,
   "metadata": {},
   "outputs": [
    {
     "data": {
      "text/html": [
       "<div>\n",
       "<style scoped>\n",
       "    .dataframe tbody tr th:only-of-type {\n",
       "        vertical-align: middle;\n",
       "    }\n",
       "\n",
       "    .dataframe tbody tr th {\n",
       "        vertical-align: top;\n",
       "    }\n",
       "\n",
       "    .dataframe thead th {\n",
       "        text-align: right;\n",
       "    }\n",
       "</style>\n",
       "<table border=\"1\" class=\"dataframe\">\n",
       "  <thead>\n",
       "    <tr style=\"text-align: right;\">\n",
       "      <th></th>\n",
       "      <th>Delay subida</th>\n",
       "      <th>Delay bajada</th>\n",
       "      <th>Inestabilidad</th>\n",
       "      <th>Falsos positivos</th>\n",
       "      <th>Falsos negativos</th>\n",
       "    </tr>\n",
       "  </thead>\n",
       "  <tbody>\n",
       "    <tr>\n",
       "      <th>0</th>\n",
       "      <td>0.425826</td>\n",
       "      <td>0.343582</td>\n",
       "      <td>1.533333</td>\n",
       "      <td>1.125</td>\n",
       "      <td>2</td>\n",
       "    </tr>\n",
       "  </tbody>\n",
       "</table>\n",
       "</div>"
      ],
      "text/plain": [
       "   Delay subida  Delay bajada  Inestabilidad  Falsos positivos  \\\n",
       "0      0.425826      0.343582       1.533333             1.125   \n",
       "\n",
       "   Falsos negativos  \n",
       "0                 2  "
      ]
     },
     "execution_count": 13,
     "metadata": {},
     "output_type": "execute_result"
    },
    {
     "data": {
      "image/png": "[encoded data removed]",
      "text/plain": [
       "<Figure size 432x288 with 3 Axes>"
      ]
     },
     "metadata": {
      "needs_background": "light"
     },
     "output_type": "display_data"
    }
   ],
   "source": [
    "#En este bloque escribo la mejor combinación de % y Samples reemplazar el nombre del modelo en cuestion en el path\n",
    "\n",
    "metrics = plot_command(78, 18, True)\n",
    "metrics"
   ]
  },
  {
   "cell_type": "code",
   "execution_count": null,
   "metadata": {},
   "outputs": [],
   "source": [
    "#QUE ME GUARDE UN csv POR CADA MODELO (16 MODELOS)\n",
    "metrics.to_csv(\"/Users/gastoncavallo/Desktop/Resultados 40 epocas/Full train 40 epoch/metrics/Metricas_eval/modeltl_resnet50.csv\")"
   ]
  },
  {
   "cell_type": "code",
   "execution_count": null,
   "metadata": {},
   "outputs": [],
   "source": [
    "#Ultimo bloque, me arma un solo csv con los datos de todos los modelos\n",
    "lista_table_metrics = []\n",
    "metrics_path = \"/Users/gastoncavallo/Desktop/Resultados 40 epocas/Full train 40 epoch/metrics/Metricas_eval\"\n",
    "metrics_list = os.listdir(metrics_path)\n",
    "\n",
    "for met in metrics_list:\n",
    "    if \".csv\" in met:\n",
    "        lista_table_metrics.append(pd.read_csv(os.path.join(metrics_path, met), index_col=0))\n",
    "\n",
    "full_table_metrics = pd.concat(lista_table_metrics)\n",
    "full_table_metrics.to_csv(os.path.join(metrics_path, \"full_table_metrics_eval.csv\"))   "
   ]
  },
  {
   "cell_type": "code",
   "execution_count": null,
   "metadata": {},
   "outputs": [],
   "source": []
  }
 ],
 "metadata": {
  "interpreter": {
   "hash": "3149df8f9277918b9e43801bce2b4be15438039089427bb18c9e4abea72cc8be"
  },
  "kernelspec": {
   "display_name": "Python 3",
   "language": "python",
   "name": "python3"
  },
  "language_info": {
   "codemirror_mode": {
    "name": "ipython",
    "version": 3
   },
   "file_extension": ".py",
   "mimetype": "text/x-python",
   "name": "python",
   "nbconvert_exporter": "python",
   "pygments_lexer": "ipython3",
   "version": "3.7.9"
  }
 },
 "nbformat": 4,
 "nbformat_minor": 4
}
